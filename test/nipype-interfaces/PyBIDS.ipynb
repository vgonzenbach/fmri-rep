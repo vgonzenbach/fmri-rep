{
 "cells": [
  {
   "cell_type": "markdown",
   "metadata": {},
   "source": [
    "# Testing PyBIDS\n",
    "\n",
    "This notebook shows how to use the PyBIDS API. See [Michael Notter's tutorial on PyBIDS for the complete examples.](https://miykael.github.io/nipype_tutorial/notebooks/basic_data_input_bids.html)"
   ]
  },
  {
   "cell_type": "code",
   "execution_count": 4,
   "metadata": {},
   "outputs": [],
   "source": [
    "from bids.layout import BIDSLayout\n",
    "layout = BIDSLayout(\"../../data/ds000171/\")"
   ]
  },
  {
   "cell_type": "markdown",
   "metadata": {},
   "source": [
    "## Get a description of the dataset"
   ]
  },
  {
   "cell_type": "code",
   "execution_count": 16,
   "metadata": {},
   "outputs": [
    {
     "data": {
      "text/plain": [
       "{'Name': 'Neural Processing of Emotional Musical and Nonmusical Stimuli in Depression',\n",
       " 'BIDSVersion': '1.0.0-rc2',\n",
       " 'License': 'PDDL',\n",
       " 'Authors': ['Rebecca J. Lepping',\n",
       "  'Ruth Ann Atchley',\n",
       "  'Evangelia Chrysikou',\n",
       "  'Laura E. Martin',\n",
       "  'Alicia A. Clair',\n",
       "  'Rick E. Ingram',\n",
       "  'W. Kyle Simmons',\n",
       "  'Cary R. Savage'],\n",
       " 'Acknowledgements': 'The authors wish to acknowledge Trisha Patrician and Natalie Stroupe for their assistance with screening of participants, and Allan Schmitt and Franklin Hunsinger for their role in collecting the MR data.',\n",
       " 'HowToAcknowledge': 'Please cite the papers listed in the ReferencesAndLinks',\n",
       " 'Funding': 'This work was supported by funding to RL from The Society for Education, Music and Psychology Research (SEMPRE: Arnold Bentley New Initiatives Fund), and the University of Kansas Doctoral Student Research Fund. MR imaging was provided by pilot funding from the Hoglund Brain Imaging Center. The Hoglund Brain Imaging Center is supported by a generous gift from Forrest and Sally Hoglund and funding from the National Institutes of Health (UL1 TR000001). The contents of this dataset are solely the responsibility of the authors and do not necessarily represent the official views of the NIH or any individual institute. The funders had no role in study design, data collection and analysis, decision to publish, or preparation of the associated manuscript.',\n",
       " 'ReferencesAndLinks': ['Lepping RJ, Atchley RA, Chrysikou E, Martin LE, Clair AA, Ingram RE, et al. Neural processing of emotional musical and nonmusical stimuli in depression.  PlosONE.  In Press.',\n",
       "  'Lepping RJ, Atchley RA, Savage CR. Development of a Validated Emotionally Provocative Musical Stimulus Set for Research. Psychology of Music. 2015; online before print. doi:10.1177/0305735615604509.',\n",
       "  'Lepping RJ, Atchley RA, Martin LE, Patrician TM, Stroupe N, Brooks WM, et al. Limbic responses to positive and negative emotionally evocative music: An fMRI study.  Society for Neuroscience annual meeting 2012 Oct 13-18; New Orleans, LA 2012.',\n",
       "  'Lepping RJ, Atchley RA, Martin LE, Brooks WM, Clair AA, Ingram RE, et al. Musical and nonmusical sounds evoke different patterns of neural activity: An fMRI study.  Psychonomic Society annual meeting; 2012 Nov 14-18; Minneapolis, MN 2012.',\n",
       "  'Lepping RJ, Atchley RA, Martin LE, Patrician TM, Ingram RE, Clair AA, et al. The effect of musical experiences and musical training on neural responses to emotionally evocative music and non-musical sounds.  Social and Affective Neuroscience Society annual conference 2013 Apr 12-13; San Francisco, CA 2013',\n",
       "  'Lepping RJ, Atchley RA, Patrician TM, Stroupe NN, Martin LE, Ingram RE, et al. Music to my ears: Neural responsiveness to emotional music and sounds in depression.  Society of Biological Psychiatry annual scientific convention 2013 May 16-18; San Francisco, CA 2013.'],\n",
       " 'AccessionNumber': 'ds000171'}"
      ]
     },
     "execution_count": 16,
     "metadata": {},
     "output_type": "execute_result"
    }
   ],
   "source": [
    "layout.get_dataset_description()"
   ]
  },
  {
   "cell_type": "markdown",
   "metadata": {},
   "source": [
    "## Get a list of subjects"
   ]
  },
  {
   "cell_type": "code",
   "execution_count": 17,
   "metadata": {},
   "outputs": [
    {
     "data": {
      "text/plain": [
       "['control01',\n",
       " 'control02',\n",
       " 'control03',\n",
       " 'control04',\n",
       " 'control05',\n",
       " 'control06',\n",
       " 'control07',\n",
       " 'control08',\n",
       " 'control09',\n",
       " 'control10',\n",
       " 'control11',\n",
       " 'control12',\n",
       " 'control13',\n",
       " 'control14',\n",
       " 'control15',\n",
       " 'control16',\n",
       " 'control17',\n",
       " 'control18',\n",
       " 'control19',\n",
       " 'control20',\n",
       " 'mdd01',\n",
       " 'mdd02',\n",
       " 'mdd03',\n",
       " 'mdd04',\n",
       " 'mdd05',\n",
       " 'mdd06',\n",
       " 'mdd07',\n",
       " 'mdd08',\n",
       " 'mdd09',\n",
       " 'mdd10',\n",
       " 'mdd11',\n",
       " 'mdd12',\n",
       " 'mdd13',\n",
       " 'mdd14',\n",
       " 'mdd15',\n",
       " 'mdd16',\n",
       " 'mdd17',\n",
       " 'mdd18',\n",
       " 'mdd19']"
      ]
     },
     "execution_count": 17,
     "metadata": {},
     "output_type": "execute_result"
    }
   ],
   "source": [
    "layout.get_subjects()"
   ]
  },
  {
   "cell_type": "markdown",
   "metadata": {},
   "source": [
    "## Get callable entities in this dataset"
   ]
  },
  {
   "cell_type": "code",
   "execution_count": 21,
   "metadata": {},
   "outputs": [
    {
     "data": {
      "text/plain": [
       "{'subject': <bids.layout.models.Entity at 0x1077197d0>,\n",
       " 'session': <bids.layout.models.Entity at 0x107722a50>,\n",
       " 'task': <bids.layout.models.Entity at 0x107bdcb50>,\n",
       " 'acquisition': <bids.layout.models.Entity at 0x107722590>,\n",
       " 'ceagent': <bids.layout.models.Entity at 0x108116e90>,\n",
       " 'reconstruction': <bids.layout.models.Entity at 0x108035150>,\n",
       " 'direction': <bids.layout.models.Entity at 0x108035190>,\n",
       " 'run': <bids.layout.models.Entity at 0x107bdc8d0>,\n",
       " 'proc': <bids.layout.models.Entity at 0x108035ed0>,\n",
       " 'modality': <bids.layout.models.Entity at 0x108035410>,\n",
       " 'echo': <bids.layout.models.Entity at 0x108035910>,\n",
       " 'recording': <bids.layout.models.Entity at 0x108035a10>,\n",
       " 'space': <bids.layout.models.Entity at 0x108035bd0>,\n",
       " 'suffix': <bids.layout.models.Entity at 0x107bdce10>,\n",
       " 'scans': <bids.layout.models.Entity at 0x10799c3d0>,\n",
       " 'fmap': <bids.layout.models.Entity at 0x10799c810>,\n",
       " 'datatype': <bids.layout.models.Entity at 0x107bdcf90>,\n",
       " 'extension': <bids.layout.models.Entity at 0x107bdc150>,\n",
       " 'RepetitionTime': <bids.layout.models.Entity at 0x107bdc250>,\n",
       " 'EchoTime': <bids.layout.models.Entity at 0x107bdc290>,\n",
       " 'InversionTime': <bids.layout.models.Entity at 0x107bdc310>,\n",
       " 'FlipAngle': <bids.layout.models.Entity at 0x107bdc390>,\n",
       " 'SequenceName': <bids.layout.models.Entity at 0x107bdc510>,\n",
       " 'Manufacturer': <bids.layout.models.Entity at 0x107bdc450>,\n",
       " 'ManufacturersModelName': <bids.layout.models.Entity at 0x107bdc590>,\n",
       " 'MagneticFieldStrength': <bids.layout.models.Entity at 0x107bdc5d0>,\n",
       " 'TaskName': <bids.layout.models.Entity at 0x107bdc690>,\n",
       " 'ParallelImagingReductionFactor': <bids.layout.models.Entity at 0x107bdcb10>,\n",
       " 'SliceTimingComputationMethod': <bids.layout.models.Entity at 0x107bdc0d0>,\n",
       " 'SliceTiming': <bids.layout.models.Entity at 0x107c45650>}"
      ]
     },
     "execution_count": 21,
     "metadata": {},
     "output_type": "execute_result"
    }
   ],
   "source": [
    "layout.get_entities()"
   ]
  },
  {
   "cell_type": "markdown",
   "metadata": {},
   "source": [
    "## Get TR"
   ]
  },
  {
   "cell_type": "code",
   "execution_count": 18,
   "metadata": {},
   "outputs": [
    {
     "data": {
      "text/plain": [
       "3.0"
      ]
     },
     "execution_count": 18,
     "metadata": {},
     "output_type": "execute_result"
    }
   ],
   "source": [
    "layout.get_tr()"
   ]
  },
  {
   "cell_type": "markdown",
   "metadata": {},
   "source": [
    "## Get tasks"
   ]
  },
  {
   "cell_type": "code",
   "execution_count": 10,
   "metadata": {},
   "outputs": [
    {
     "data": {
      "text/plain": [
       "['music', 'nonmusic']"
      ]
     },
     "execution_count": 10,
     "metadata": {},
     "output_type": "execute_result"
    }
   ],
   "source": [
    "layout.get_tasks()"
   ]
  },
  {
   "cell_type": "markdown",
   "metadata": {},
   "source": [
    "## Get runs"
   ]
  },
  {
   "cell_type": "code",
   "execution_count": 11,
   "metadata": {},
   "outputs": [
    {
     "data": {
      "text/plain": [
       "[1, 2, 3, 4, 5]"
      ]
     },
     "execution_count": 11,
     "metadata": {},
     "output_type": "execute_result"
    }
   ],
   "source": [
    "layout.get_runs()"
   ]
  },
  {
   "cell_type": "markdown",
   "metadata": {},
   "source": [
    "## Query for file(s)"
   ]
  },
  {
   "cell_type": "code",
   "execution_count": 94,
   "metadata": {},
   "outputs": [
    {
     "name": "stdout",
     "output_type": "stream",
     "text": [
      "[<BIDSImageFile filename='/Users/vgonzenb/Python/nipy/fmri-rep/data/ds000171/sub-control01/func/sub-control01_task-music_run-1_bold.nii.gz'>, <BIDSImageFile filename='/Users/vgonzenb/Python/nipy/fmri-rep/data/ds000171/sub-control01/func/sub-control01_task-music_run-2_bold.nii.gz'>, <BIDSImageFile filename='/Users/vgonzenb/Python/nipy/fmri-rep/data/ds000171/sub-control01/func/sub-control01_task-music_run-3_bold.nii.gz'>, <BIDSImageFile filename='/Users/vgonzenb/Python/nipy/fmri-rep/data/ds000171/sub-control01/func/sub-control01_task-nonmusic_run-4_bold.nii.gz'>, <BIDSImageFile filename='/Users/vgonzenb/Python/nipy/fmri-rep/data/ds000171/sub-control01/func/sub-control01_task-nonmusic_run-5_bold.nii.gz'>]\n"
     ]
    }
   ],
   "source": [
    "f = layout.get(suffix='bold', subject='control01', extension='nii.gz')\n",
    "print(f)"
   ]
  },
  {
   "cell_type": "code",
   "execution_count": 100,
   "metadata": {},
   "outputs": [
    {
     "data": {
      "text/plain": [
       "['_AssociationProxy_tags_4417067088',\n",
       " '_AssociationProxy_tags_4417067088_inst',\n",
       " '__class__',\n",
       " '__delattr__',\n",
       " '__dict__',\n",
       " '__dir__',\n",
       " '__doc__',\n",
       " '__eq__',\n",
       " '__format__',\n",
       " '__fspath__',\n",
       " '__ge__',\n",
       " '__getattr__',\n",
       " '__getattribute__',\n",
       " '__gt__',\n",
       " '__hash__',\n",
       " '__init__',\n",
       " '__init_subclass__',\n",
       " '__le__',\n",
       " '__lt__',\n",
       " '__mapper__',\n",
       " '__mapper_args__',\n",
       " '__module__',\n",
       " '__ne__',\n",
       " '__new__',\n",
       " '__reduce__',\n",
       " '__reduce_ex__',\n",
       " '__repr__',\n",
       " '__setattr__',\n",
       " '__sizeof__',\n",
       " '__str__',\n",
       " '__subclasshook__',\n",
       " '__table__',\n",
       " '__tablename__',\n",
       " '__weakref__',\n",
       " '_associations',\n",
       " '_decl_class_registry',\n",
       " '_sa_class_manager',\n",
       " '_sa_instance_state',\n",
       " 'class_',\n",
       " 'copy',\n",
       " 'dirname',\n",
       " 'entities',\n",
       " 'filename',\n",
       " 'get_associations',\n",
       " 'get_entities',\n",
       " 'get_image',\n",
       " 'get_metadata',\n",
       " 'is_dir',\n",
       " 'metadata',\n",
       " 'path',\n",
       " 'tags']"
      ]
     },
     "execution_count": 100,
     "metadata": {},
     "output_type": "execute_result"
    }
   ],
   "source": [
    "dir(f[0])"
   ]
  },
  {
   "cell_type": "code",
   "execution_count": 99,
   "metadata": {},
   "outputs": [
    {
     "data": {
      "text/plain": [
       "{'EchoTime': 0.025, 'FlipAngle': 90.0, 'MagneticFieldStrength': 3.0, 'Manufacturer': 'Siemens', 'ManufacturersModelName': 'Skyra', 'ParallelImagingReductionFactor': 0, 'RepetitionTime': 3.0, 'SequenceName': 'EPI BOLD', 'SliceTiming': [1.5, 0.0, 1.56, 0.06, 1.62, 0.12, 1.68, 0.18, 1.74, 0.24, 1.8, 0.3, 1.86, 0.36, 1.92, 0.42, 1.98, 0.48, 2.04, 0.54, 2.1, 0.6, 2.16, 0.66, 2.22, 0.72, 2.28, 0.78, 2.34, 0.84, 2.4, 0.9, 2.46, 0.96, 2.52, 1.02, 2.58, 1.08, 2.64, 1.14, 2.7, 1.2, 2.76, 1.26, 2.82, 1.32, 2.88, 1.38, 2.94, 1.44], 'SliceTimingComputationMethod': '(slicenum*RepetitionTime/TotalSlices), interleaved according to Siemens even-numbered slice convention (even slices first).', 'TaskName': 'Music', 'datatype': 'func', 'extension': 'nii.gz', 'run': 1, 'subject': 'control01', 'suffix': 'bold', 'task': 'music'}"
      ]
     },
     "execution_count": 99,
     "metadata": {},
     "output_type": "execute_result"
    }
   ],
   "source": [
    "f[0].entities"
   ]
  },
  {
   "cell_type": "code",
   "execution_count": 102,
   "metadata": {},
   "outputs": [
    {
     "data": {
      "text/plain": [
       "{'EchoTime': 0.025,\n",
       " 'FlipAngle': 90.0,\n",
       " 'MagneticFieldStrength': 3.0,\n",
       " 'Manufacturer': 'Siemens',\n",
       " 'ManufacturersModelName': 'Skyra',\n",
       " 'ParallelImagingReductionFactor': 0,\n",
       " 'RepetitionTime': 3.0,\n",
       " 'SequenceName': 'EPI BOLD',\n",
       " 'SliceTiming': [1.5,\n",
       "  0.0,\n",
       "  1.56,\n",
       "  0.06,\n",
       "  1.62,\n",
       "  0.12,\n",
       "  1.68,\n",
       "  0.18,\n",
       "  1.74,\n",
       "  0.24,\n",
       "  1.8,\n",
       "  0.3,\n",
       "  1.86,\n",
       "  0.36,\n",
       "  1.92,\n",
       "  0.42,\n",
       "  1.98,\n",
       "  0.48,\n",
       "  2.04,\n",
       "  0.54,\n",
       "  2.1,\n",
       "  0.6,\n",
       "  2.16,\n",
       "  0.66,\n",
       "  2.22,\n",
       "  0.72,\n",
       "  2.28,\n",
       "  0.78,\n",
       "  2.34,\n",
       "  0.84,\n",
       "  2.4,\n",
       "  0.9,\n",
       "  2.46,\n",
       "  0.96,\n",
       "  2.52,\n",
       "  1.02,\n",
       "  2.58,\n",
       "  1.08,\n",
       "  2.64,\n",
       "  1.14,\n",
       "  2.7,\n",
       "  1.2,\n",
       "  2.76,\n",
       "  1.26,\n",
       "  2.82,\n",
       "  1.32,\n",
       "  2.88,\n",
       "  1.38,\n",
       "  2.94,\n",
       "  1.44],\n",
       " 'SliceTimingComputationMethod': '(slicenum*RepetitionTime/TotalSlices), interleaved according to Siemens even-numbered slice convention (even slices first).',\n",
       " 'TaskName': 'Music'}"
      ]
     },
     "execution_count": 102,
     "metadata": {},
     "output_type": "execute_result"
    }
   ],
   "source": [
    "f[0].get_metadata()"
   ]
  },
  {
   "cell_type": "code",
   "execution_count": 103,
   "metadata": {},
   "outputs": [
    {
     "data": {
      "text/plain": [
       "[<BIDSJSONFile filename='/Users/vgonzenb/Python/nipy/fmri-rep/data/ds000171/task-music_bold.json'>]"
      ]
     },
     "execution_count": 103,
     "metadata": {},
     "output_type": "execute_result"
    }
   ],
   "source": [
    "f[0].get_associations()"
   ]
  },
  {
   "cell_type": "code",
   "execution_count": 107,
   "metadata": {},
   "outputs": [
    {
     "data": {
      "text/plain": [
       "'/Users/vgonzenb/Python/nipy/fmri-rep/data/ds000171/sub-control01/func/sub-control01_task-music_run-1_bold.nii.gz'"
      ]
     },
     "execution_count": 107,
     "metadata": {},
     "output_type": "execute_result"
    }
   ],
   "source": [
    "f[0].path"
   ]
  },
  {
   "cell_type": "code",
   "execution_count": 106,
   "metadata": {},
   "outputs": [
    {
     "data": {
      "text/plain": [
       "'sub-control01_task-music_run-1_bold.nii.gz'"
      ]
     },
     "execution_count": 106,
     "metadata": {},
     "output_type": "execute_result"
    }
   ],
   "source": [
    "f[0].filename"
   ]
  }
 ],
 "metadata": {
  "kernelspec": {
   "display_name": "fmri-rep",
   "language": "python",
   "name": "fmri-rep"
  },
  "language_info": {
   "codemirror_mode": {
    "name": "ipython",
    "version": 3
   },
   "file_extension": ".py",
   "mimetype": "text/x-python",
   "name": "python",
   "nbconvert_exporter": "python",
   "pygments_lexer": "ipython3",
   "version": "3.7.6"
  }
 },
 "nbformat": 4,
 "nbformat_minor": 4
}
